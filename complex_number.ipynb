{
 "cells": [
  {
   "cell_type": "code",
   "execution_count": 2,
   "metadata": {},
   "outputs": [
    {
     "name": "stdout",
     "output_type": "stream",
     "text": [
      "Imaginary part of c_1: 5\n",
      "Sum of c_1 and c_2: c_3 = 10 + 13i\n"
     ]
    }
   ],
   "source": [
    "\n",
    "class ComplexNumber:\n",
    "    \"\"\"\n",
    "    This is a class for mathematical operations on complex numbers.\n",
    "    Attributes:\n",
    "        real (int): The real part of the complex number.\n",
    "        imag (int): The imaginary part of the complex number.\n",
    "    \"\"\"\n",
    "\n",
    "    def __init__(self, real, imag):\n",
    "        self.real = real\n",
    "        self.imag = imag\n",
    "\n",
    "    def add(self, num):\n",
    "        re = self.real + num.real\n",
    "        im = self.imag + num.imag\n",
    "        return ComplexNumber(re, im)\n",
    "\n",
    "def main():\n",
    "    \"\"\"\n",
    "    This is the main function.\n",
    "    \"\"\"\n",
    "\n",
    "    # Creating complex number instances\n",
    "    c_1 = ComplexNumber(9, 5)\n",
    "    print(f\"Imaginary part of c_1: {c_1.imag}\")\n",
    "\n",
    "    c_2 = ComplexNumber(1, 8)\n",
    "    c_3 = c_1.add(c_2)\n",
    "\n",
    "    print(f\"Sum of c_1 and c_2: c_3 = {c_3.real} + {c_3.imag}i\")\n",
    "\n",
    "if __name__ == \"__main__\":\n",
    "    main()\n"
   ]
  }
 ],
 "metadata": {
  "kernelspec": {
   "display_name": "geog4057",
   "language": "python",
   "name": "geog4057"
  },
  "language_info": {
   "codemirror_mode": {
    "name": "ipython",
    "version": 3
   },
   "file_extension": ".py",
   "mimetype": "text/x-python",
   "name": "python",
   "nbconvert_exporter": "python",
   "pygments_lexer": "ipython3",
   "version": "3.11.10"
  }
 },
 "nbformat": 4,
 "nbformat_minor": 2
}
