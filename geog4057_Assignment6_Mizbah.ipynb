{
 "cells": [
  {
   "cell_type": "markdown",
   "id": "fee5315c-1976-473a-a7e5-d5a286977b3e",
   "metadata": {},
   "source": [
    "#Introduction\n",
    "\n",
    "In this assignment, you will do exercises on arcpy.Exists(), arcpy.Walk(), arcpy.da.Describe(), python list comprehension, arcpy.da.SearchCursor, and arcpy.da.InsertCursor(). In each section, a code block is provided but not ready to run. You need to add this notebook to ArcGIS Pro, modify each block to make it runable, keep the output message , and write an explanation of the code block.\n",
    "\n",
    "Data preparation: Download the points.csv from the data folder.\n",
    "\n",
    "First, let's use ArcToolbox tools to convert the csv to a feature class (10 pnts)\n",
    "In ArcGIS Pro, search for \"XYTable to Point\"\n",
    "In the dialog, put the \"point.csv\" from this folder as the input table\n",
    "Name the output something like \"point_fromxy\"\n",
    "Before, you run the model, in the Run button, click the small triangle and select \"Copy Python Command\"\n",
    "Paste your python code below in the code block\n",
    "Run the code block to make sure it works\n",
    "Compare the python code and the ArcGIS Pro Geoprocessing pane dialog interface"
   ]
  },
  {
   "cell_type": "code",
   "execution_count": 1,
   "id": "0ba8a552-e5a8-4718-9349-13532ee55129",
   "metadata": {},
   "outputs": [
    {
     "data": {
      "text/html": [
       "<div class='gpresult'><h2 class='msg-title'>Messages</h2><div id='messages'>Start Time: Saturday, March 15, 2025 10:47:26 PM<br>Succeeded at Saturday, March 15, 2025 10:47:27 PM (Elapsed Time: 0.94 seconds)<br></div><div id = 'default' /></div></div>"
      ],
      "text/plain": [
       "<Result 'D:\\\\LSU_Spring 2025\\\\GEOG 4057\\\\Class Projects\\\\Assignment 6\\\\Output_points\\\\point_fromxy.shp'>"
      ]
     },
     "execution_count": 1,
     "metadata": {},
     "output_type": "execute_result"
    }
   ],
   "source": [
    "\n",
    "# To get the 10 points \n",
    "# Paste the python code from the above instruction here\n",
    "# make sure you start with import arcpy\n",
    "\n",
    "import arcpy\n",
    "arcpy.management.XYTableToPoint(\n",
    "    in_table=r\"D:\\LSU_Spring 2025\\GEOG 4057\\Class Projects\\Assignment 6\\CSV_Data\\points.csv\",\n",
    "    out_feature_class=r\"D:\\LSU_Spring 2025\\GEOG 4057\\Class Projects\\Assignment 6\\Output_points\\point_fromxy.shp\",\n",
    "    x_field=\"X\",\n",
    "    y_field=\"Y\",\n",
    "    z_field=None,\n",
    "    coordinate_system='GEOGCS[\"GCS_WGS_1984\",DATUM[\"D_WGS_1984\",SPHEROID[\"WGS_1984\",6378137.0,298.257223563]],PRIMEM[\"Greenwich\",0.0],UNIT[\"Degree\",0.0174532925199433]];-400 -400 1000000000;-100000 10000;-100000 10000;8.98315284119521E-09;0.001;0.001;IsHighPrecision'\n",
    ")"
   ]
  },
  {
   "cell_type": "markdown",
   "id": "bfa23ac4-d6f5-4ca9-ac4c-f70d794929db",
   "metadata": {},
   "source": [
    "Commentating the example code:(20 pnts)\n",
    "Using InsertCursor to do the same thing but project the geometry to a different spatial reference\n",
    "\n",
    "The above code only imports the csv to a feature class but not converting from a GCS to a project coordinate system\n",
    "\n",
    "We will use the following code to do the work and project the data to \"NAD 1983 USGS Contiguous USA Albers\" system with the WKID = 102039\n",
    "\n",
    "Look the code up from here: https://epsg.io/102039"
   ]
  },
  {
   "cell_type": "code",
   "execution_count": 2,
   "id": "ea7f7d3d-7e05-47cc-be04-e4506c5a2341",
   "metadata": {},
   "outputs": [
    {
     "name": "stdout",
     "output_type": "stream",
     "text": [
      "New point feature class 'point_albers' created in 'D:\\LSU_Spring 2025\\GEOG 4057\\Class Projects\\Assignment 6\\GIS\\Assignment_6\\Assignment_6.gdb' with 5 fields.\n"
     ]
    }
   ],
   "source": [
    "import arcpy\n",
    "import csv\n",
    "import os\n",
    "\n",
    "# Edit the path names for your case\n",
    "csv_file_path = r\"D:\\LSU_Spring 2025\\GEOG 4057\\Class Projects\\Assignment 6\\CSV_Data\\points.csv\"\n",
    "geodatabase_path = r\"D:\\LSU_Spring 2025\\GEOG 4057\\Class Projects\\Assignment 6\\GIS\\Assignment_6\\Assignment_6.gdb\"\n",
    "feature_class_name = \"point_albers\"\n",
    "\n",
    "# Determine the number of fields and field names from the CSV header\n",
    "with open(csv_file_path, 'r') as csv_file:\n",
    "    csv_reader = csv.reader(csv_file)\n",
    "    header = next(csv_reader)\n",
    "    num_fields = len(header)\n",
    "\n",
    "# Create SpatialReference objects: \n",
    "sr_gcs = arcpy.SpatialReference(4269) \n",
    "sr_albsers = arcpy.SpatialReference(102039)\n",
    "#delete if the feature class exists\n",
    "\n",
    "fcName = os.path.join(geodatabase_path,feature_class_name)\n",
    "\n",
    "if arcpy.Exists(fcName):\n",
    "    arcpy.management.Delete(fcName)\n",
    "\n",
    "\n",
    "# Create a new point feature class\n",
    "\n",
    "arcpy.CreateFeatureclass_management(geodatabase_path, feature_class_name, \"POINT\", spatial_reference=sr_albsers)\n",
    "# Add fields to the feature class based on the CSV header\n",
    "\n",
    "# first, read the exisint fields \n",
    "describe = arcpy.da.Describe(fcName)\n",
    "field_names = [field.name for field in describe[\"fields\"]]\n",
    "\n",
    "\n",
    "for field in header:\n",
    "    if field not in field_names:\n",
    "        arcpy.AddField_management(fcName, field, \"TEXT\")\n",
    "\n",
    "# Create a cursor for inserting point features with additional fields\n",
    "cursor_fields = [\"SHAPE@\"] + header\n",
    "with arcpy.da.InsertCursor(fcName, cursor_fields) as cursor:\n",
    "    # Read data from the CSV file and create point features with attributes\n",
    "    with open(csv_file_path, 'r') as csv_file:\n",
    "        csv_reader = csv.reader(csv_file)\n",
    "        \n",
    "        # Skip the header row (if present)\n",
    "        next(csv_reader, None)\n",
    "        \n",
    "        for table_value in csv_reader:\n",
    "            x = float(table_value[0]) # note that the first two fields in the csv must be longitude and latitude\n",
    "            y = float(table_value[1])\n",
    "            pnt = arcpy.PointGeometry(arcpy.Point(x,y),sr_gcs)\n",
    "            pnt_alberse = pnt.projectAs(sr_albsers)\n",
    "\n",
    "            row = (pnt_alberse,) + tuple(table_value)\n",
    "            cursor.insertRow(row)\n",
    "\n",
    "print(f\"New point feature class '{feature_class_name}' created in '{geodatabase_path}' with {num_fields} fields.\")\n",
    "\n"
   ]
  },
  {
   "cell_type": "markdown",
   "id": "1a1318c8-adf0-4b12-ad67-76e9e7a63783",
   "metadata": {},
   "source": [
    "Q1: Line by line, explain what was done in the code. (10 pnts)\n",
    "•\tImport modules: arcpy, csv, os.\n",
    "•\tDefine paths for CSV, geodatabase, and output feature class.\n",
    "•\tRead CSV header to count fields (columns).\n",
    "•\tSet spatial references: 4269: NAD83 (geographic, lat/long) and 102039: NAD83/Conus Albers (projected, Albers Equal Area).\n",
    "•\tCreate feature class path (fcName).\n",
    "•\tDelete existing feature class if present.\n",
    "•\tCreate new point feature class.\n",
    "•\tAdd missing CSV header fields as text fields to the feature class.\n",
    "•\tUse arcpy.da.InsertCursor to populate data: Read CSV rows, Convert lat/long to point geometry using 4269, Reproject to 102039, Insert geometry and CSV data into the feature class.\n",
    "•\tPrint completion message.\n",
    "\n",
    "\n",
    "Q2: What do the cod 4269 and 102309 represent? (5 pnts)\n",
    "•\t4269: EPSG code for NAD83 (latitude/longitude, geographic coordinate system).\n",
    "•\t102039: ESRI code for NAD83/Conus Albers (projected coordinate system, Albers Equal Area).\n",
    "\n",
    "\n",
    "Q3: Explain what is SHAPE@ (5 pnts) \n",
    "•\tSHAPE@: ArcPy cursor token for accessing/modifying a feature’s geometry.\n",
    "•\tUsed to insert point/line/polygon shapes directly (e.g., coordinates in this script).\n",
    "•\tEssential for spatial data operations with cursors.\n"
   ]
  },
  {
   "cell_type": "markdown",
   "id": "a45b00d0-f0f0-45ee-859d-dbda2aa5e605",
   "metadata": {},
   "source": [
    "#Use arcpy.Exist() (10 pnts)\n",
    "This code checks the existence of a specified dataset within an ArcGIS workspace.\n",
    "Fill the dataset_name and workspace_path variables with the database and the feature class name (points) from the last block\n",
    "Print a message indicating whether the dataset exists or not."
   ]
  },
  {
   "cell_type": "code",
   "execution_count": 3,
   "id": "f3bc08db-d76e-43bc-8e11-01b92e098bda",
   "metadata": {},
   "outputs": [
    {
     "name": "stdout",
     "output_type": "stream",
     "text": [
      "The dataset 'point_albers' exists in the workspace.\n"
     ]
    }
   ],
   "source": [
    "import arcpy\n",
    "import os\n",
    "\n",
    "# Prompt for user input\n",
    "dataset_name = \"point_albers\"\n",
    "workspace_path = r\"D:\\LSU_Spring 2025\\GEOG 4057\\Class Projects\\Assignment 6\\GIS\\Assignment_6\\Assignment_6.gdb\"\n",
    "fullname = os.path.join(workspace_path,dataset_name)\n",
    "# Check if the dataset exists\n",
    "if arcpy.Exists(fullname):\n",
    "    print(f\"The dataset '{dataset_name}' exists in the workspace.\")\n",
    "else:\n",
    "    print(f\"The dataset '{dataset_name}' does not exist in the workspace.\")"
   ]
  },
  {
   "cell_type": "markdown",
   "id": "8844b7b0-df8c-4503-ae5c-1822bb60feb9",
   "metadata": {},
   "source": [
    "Q4: Line by line describe what was done by the code in the block above. (10 pnts)\n",
    "\n",
    "•\timport arcpy: Imports the ArcPy module for geospatial operations.\n",
    "•\timport os: Imports the OS module for file/path handling.\n",
    "•\tdataset_name = \"point_albers\": Defines the name of the dataset (feature class) to check.\n",
    "•\tworkspace_path = r\"D:\\...\\Assignment_6.gdb\": Sets the path to the geodatabase workspace (raw string avoids escape issues).\n",
    "•\tfullname = os.path.join(workspace_path, dataset_name): Combines workspace path and dataset name into a full path (ensures OS compatibility).\n",
    "•\tif arcpy.Exists(fullname):: Checks if the dataset exists in the geodatabase.\n",
    "1.\tprint(f\"The dataset '{dataset_name}' exists...\"): Outputs confirmation if the dataset is found.\n",
    "2.\telse:: Handles the case where the dataset is missing.\n",
    "3.\tprint(f\"The dataset '{dataset_name}' does not exist...\"): Outputs a warning if the dataset is not found\n",
    "\n"
   ]
  },
  {
   "cell_type": "markdown",
   "id": "d43dac44-4d0d-496f-a5e1-a12113eb05c6",
   "metadata": {},
   "source": [
    "#Use arcpy.Walk() (10 pnts)\n",
    "This code uses arcpy.Walk() to iterate through all feature datasets in the geodatabase you just used.\n",
    "Modify the name of \"workspace\" to make the code work\n",
    "Run the code to list all the feature classes within each dataset."
   ]
  },
  {
   "cell_type": "code",
   "execution_count": 4,
   "id": "66f7c8ed-b239-43d1-adeb-7b4d48e56937",
   "metadata": {},
   "outputs": [
    {
     "name": "stdout",
     "output_type": "stream",
     "text": [
      "Feature Class in D:\\LSU_Spring 2025\\GEOG 4057\\Class Projects\\Assignment 6\\GIS\\Assignment_6\\Assignment_6.gdb: point_albers\n"
     ]
    }
   ],
   "source": [
    "\n",
    "import arcpy\n",
    "\n",
    "# Define the workspace\n",
    "workspace = r\"D:\\LSU_Spring 2025\\GEOG 4057\\Class Projects\\Assignment 6\\GIS\\Assignment_6\\Assignment_6.gdb\" # note that you need to put a full path name for this workspace, even running it in ArcGIS Pro. \n",
    "\n",
    "# Use arcpy.Walk() to iterate through feature datasets\n",
    "for dirpath, dirnames, filenames in arcpy.da.Walk(workspace, datatype=\"FeatureClass\"):\n",
    "    for filename in filenames:\n",
    "        print(f\"Feature Class in {dirpath}: {filename}\")\n",
    "     "
   ]
  },
  {
   "cell_type": "code",
   "execution_count": null,
   "id": "d288e0c1-2a42-419a-93f2-426d4da58a19",
   "metadata": {},
   "outputs": [],
   "source": [
    "Q5: line by line, describe what was done by the code in the block above. (10 pnts)\n",
    "\n",
    "•\tImport arcpy – Loads the ArcPy module for GIS operations.\n",
    "•\tDefine workspace – Sets the path to the geodatabase.\n",
    "•\tUse arcpy.da.Walk() – Iterates through the geodatabase to find feature classes.\n",
    "•\tLoop through filenames – Extracts each feature class name.\n",
    "•\tPrint feature class details – Displays the directory and feature class name.\n"
   ]
  },
  {
   "cell_type": "markdown",
   "id": "2949063e-0de0-4e82-9d5d-a2ba74878fad",
   "metadata": {},
   "source": [
    "#Use List Comprehension (10 pnts)\n",
    "The following block uses list comprehension to generate a list of .shp files in a specified folder.\n",
    "\n",
    "Choose the folder name from assignment 4 data/paris subfolder where many shapefiles are located and use it for folder_path\n",
    "\n",
    "Run the code to print the list of file names\n",
    "\n",
    "In the second block, the code combines the os.walk() function with the list comprehension to list all shapefiles in a folder including subfolders"
   ]
  },
  {
   "cell_type": "code",
   "execution_count": 5,
   "id": "c760de49-1cf2-4509-aee0-eebbc96475f9",
   "metadata": {},
   "outputs": [
    {
     "name": "stdout",
     "output_type": "stream",
     "text": [
      "Shapefiles in the folder:\n",
      "Metro_Entrances.shp\n",
      "Warehouses.shp\n"
     ]
    }
   ],
   "source": [
    "import os\n",
    "\n",
    "# Specify the folder path\n",
    "folder_path = r\"D:\\LSU_Spring 2025\\GEOG 4057\\Class Projects\\Assignment 6\\ModelBuilder_data\\ParisData\"\n",
    "\n",
    "# Use list comprehension to generate a list of .shp files\n",
    "shp_files = [file for file in os.listdir(folder_path) if file.endswith(\".shp\")]\n",
    "\n",
    "# Print the list of .shp files\n",
    "print(\"Shapefiles in the folder:\")\n",
    "for shp_file in shp_files:\n",
    "    print(shp_file)\n",
    "     "
   ]
  },
  {
   "cell_type": "code",
   "execution_count": 6,
   "id": "7a03bd0e-5c75-4efc-a3ef-157dc5121471",
   "metadata": {},
   "outputs": [
    {
     "name": "stdout",
     "output_type": "stream",
     "text": [
      "Shapefiles in the folder:\n",
      "Metro_Entrances.shp\n",
      "Warehouses.shp\n",
      "Stores.shp\n",
      "Parks.shp\n",
      "Metro_Lines.shp\n",
      "Metro_LinesAOI.shp\n",
      "Metro_Stations.shp\n",
      "Streets.shp\n"
     ]
    }
   ],
   "source": [
    "\n",
    "import os\n",
    "# Specify the folder path\n",
    "folder_path = r\"D:\\LSU_Spring 2025\\GEOG 4057\\Class Projects\\Assignment 6\\ModelBuilder_data\\ParisData\"\n",
    "\n",
    "print(\"Shapefiles in the folder:\")\n",
    "for root, dirs, files in os.walk(folder_path):\n",
    "    shp_files = [file for file in files if file.endswith(\".shp\")]\n",
    "    for shp_file in shp_files:\n",
    "            print(shp_file)"
   ]
  },
  {
   "cell_type": "markdown",
   "id": "8aaee0f8-76b9-4d33-a5c4-6c0eddfac220",
   "metadata": {},
   "source": [
    "Q6: Description of the first code block (5 pts)\n",
    "\n",
    "•\tThe folder path is defined to specify the directory containing the files.\n",
    "•\tList comprehension is used to filter and store only the files ending with the .shp extension in the shp_files variable.\n",
    "•\tA for loop iterates through shp_files, printing each shapefile name.– Displays the directory and feature class name.\n",
    "\n",
    "\n",
    "Q7: Description of the second code block (5 pts)\n",
    "•\tos.walk() is used instead of os.listdir(), allowing recursive traversal through directories.\n",
    "•\tThe variables root, dirs, and files represent the current folder, subdirectories, and files.\n",
    "•\tList comprehension is applied to filter out files that end with .shp, keeping only shapefiles.\n"
   ]
  },
  {
   "cell_type": "code",
   "execution_count": 7,
   "id": "f9468155-a211-43e4-bc4f-c51a1e6a2d71",
   "metadata": {},
   "outputs": [
    {
     "name": "stdout",
     "output_type": "stream",
     "text": [
      "Extracted Data:\n",
      "['-118.2437', '34.0522', '10', '15', '20']\n",
      "['-73.935242', '40.730610', '8', '11', '14']\n",
      "['-95.369804', '29.760427', '12', '18', '22']\n",
      "['-121.886329', '37.338208', '6', '9', '12']\n",
      "['-87.629798', '41.878113', '15', '22', '28']\n",
      "['-97.743061', '30.267153', '11', '16', '21']\n",
      "['-122.419416', '37.774929', '9', '13', '17']\n",
      "['-118.242766', '34.052235', '14', '21', '26']\n",
      "['-71.058880', '42.360081', '7', '10', '13']\n",
      "['-81.694360', '41.499321', '12', '17', '22']\n"
     ]
    }
   ],
   "source": [
    "import arcpy\n",
    "\n",
    "# Prompt for user input\n",
    "fc_path = geodatabase_path + \"/\" + feature_class_name\n",
    "fields_to_extract = [\"X\", \"Y\", \"Field1\", \"Field2\", \"Field3\"]\n",
    "\n",
    "# Use arcpy.da.SearchCursor to extract data\n",
    "with arcpy.da.SearchCursor(fc_path, fields_to_extract) as cursor:\n",
    "    print(\"Extracted Data:\")\n",
    "    for row in cursor:\n",
    "        print([row[i] for i in range(len(fields_to_extract))])"
   ]
  },
  {
   "cell_type": "markdown",
   "id": "2e9ab297-a453-4525-a8e3-292ad438839e",
   "metadata": {},
   "source": [
    "Q8: Line-by-line explanation of the code (10 pts)\n",
    "•\tImport arcpy – Loads the ArcPy module to work with GIS data.\n",
    "•\tDefine fc_path – Constructs the path to a feature class inside a geodatabase.\n",
    "•\tSpecify fields to extract – Lists the attribute table fields to retrieve from the feature class.\n",
    "•\tCreate a search cursor (arcpy.da.SearchCursor) – Iterates through each row of the feature class, extracting the specified fields.\n",
    "•\tUse with statement – Ensures the cursor closes automatically after execution.\n",
    "•\tPrint extracted data – Displays the retrieved attribute values.\n"
   ]
  },
  {
   "cell_type": "code",
   "execution_count": 15,
   "id": "370315f2-510f-4316-acf1-c85d40b90433",
   "metadata": {},
   "outputs": [
    {
     "data": {
      "text/html": [
       "<div class='gpresult'><h2 class='msg-title'>Messages</h2><div id='messages'>Start Time: Sunday, March 16, 2025 12:02:47 AM<br>Succeeded at Sunday, March 16, 2025 12:02:47 AM (Elapsed Time: 0.04 seconds)<br></div><div id = 'default' /></div></div>"
      ],
      "text/plain": [
       "<Result 'D:\\\\LSU_Spring 2025\\\\GEOG 4057\\\\Class Projects\\\\Assignment 6\\\\Output_points\\\\point_fromxy.shp'>"
      ]
     },
     "execution_count": 15,
     "metadata": {},
     "output_type": "execute_result"
    }
   ],
   "source": [
    "\n",
    "import arcpy\n",
    "fc = \"point_fromxy\"\n",
    "newfieldName = \"all\"\n",
    "arcpy.AddField_management(fc, newfieldName, \"DOUBLE\")\n",
    "expression = \"sum(!Field1!,!Field2!,!Field3!)\"\n",
    "codeblock = \"\"\"\n",
    "def sum(*fields):\n",
    "    sum = 0\n",
    "    for field in fields:\n",
    "        sum += field\n",
    "    return sum\n",
    "\"\"\"\n",
    "arcpy.CalculateField_management(fc, newfieldName, expression, \"\", codeblock)\n",
    "     "
   ]
  },
  {
   "cell_type": "markdown",
   "id": "49e4e154-a0ee-41d3-85ef-697ab26f2fe9",
   "metadata": {},
   "source": [
    "Q9: Line-by-line explanation of the code (10 pts)\n",
    "•\tImport arcpy – Loads the ArcPy module for GIS processing.\n",
    "•\tDefine fc (Feature Class) – Specifies the name of the feature class (point_fromxy).\n",
    "•\tCreate a new field (AddField_management) – Adds a new field named \"all\" with a data type of DOUBLE to store numeric values.\n",
    "•\tDefine expression – Uses the sum function to add values from Field1, Field2, and Field3.\n",
    "•\tWrite a Python function (codeblock) – Defines a sum function that loops through the given fields and returns their sum.\n",
    "•\tApply field calculation (CalculateField_management) – Computes the sum of the specified fields and updates the \"all\" field in the attribute table.\n"
   ]
  },
  {
   "cell_type": "markdown",
   "id": "829b8c37-cba8-46ba-941d-608c35cf5133",
   "metadata": {},
   "source": [
    "10: Field Calculator Interface & Comparison (10 pts)\n",
    "Opening Attribute Table: The \"all\" field should be present with summed values from Field1, Field2, and Field3.\n",
    "Field Calculator Interface:\n",
    "1.\tSupports VB Script and Python expressions.\n",
    "2.\tAllows manual input or built-in functions.\n",
    "3.\tProvides a preview for calculations.\n",
    "Comparison:\n",
    "1.\tPython Code automates the process for repeatability.\n",
    "2.\tField Calculator is a manual, GUI-based method.\n",
    "3.\tPython allows loops and reusability, while the Field Calculator is more limited.\n",
    "\n"
   ]
  }
 ],
 "metadata": {
  "kernelspec": {
   "display_name": "geog4057",
   "language": "python",
   "name": "geog4057"
  },
  "language_info": {
   "codemirror_mode": {
    "name": "ipython",
    "version": 3
   },
   "file_extension": ".py",
   "mimetype": "text/x-python",
   "name": "python",
   "nbconvert_exporter": "python",
   "pygments_lexer": "ipython3",
   "version": "3.11.10"
  }
 },
 "nbformat": 4,
 "nbformat_minor": 5
}
